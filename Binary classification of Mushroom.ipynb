{
 "cells": [
  {
   "cell_type": "markdown",
   "id": "00aac87b",
   "metadata": {},
   "source": [
    "### Binary classification of Mushroom  poisonous or edible \n",
    "#### By: Adwaith Moothezhath\n",
    "#### Using Support Vector Machine algorithm(Supervised learning)"
   ]
  },
  {
   "cell_type": "code",
   "execution_count": 44,
   "id": "9d9e9d12",
   "metadata": {},
   "outputs": [],
   "source": [
    "import numpy as np\n",
    "import pandas as pd\n",
    "from sklearn.preprocessing import StandardScaler #standardize data\n",
    "from sklearn.model_selection import train_test_split #spli to train and test\n",
    "from sklearn.preprocessing import LabelEncoder #map label into number\n",
    "from sklearn import svm #support vector machine\n",
    "from sklearn.metrics import accuracy_score "
   ]
  },
  {
   "cell_type": "code",
   "execution_count": 45,
   "id": "c0701500",
   "metadata": {},
   "outputs": [],
   "source": [
    "#loading dataset as pandas dataframe\n",
    "mushroom_dataset = pd.read_csv('mushrooms.csv')"
   ]
  },
  {
   "cell_type": "code",
   "execution_count": 46,
   "id": "cf89c013",
   "metadata": {},
   "outputs": [
    {
     "data": {
      "text/html": [
       "<div>\n",
       "<style scoped>\n",
       "    .dataframe tbody tr th:only-of-type {\n",
       "        vertical-align: middle;\n",
       "    }\n",
       "\n",
       "    .dataframe tbody tr th {\n",
       "        vertical-align: top;\n",
       "    }\n",
       "\n",
       "    .dataframe thead th {\n",
       "        text-align: right;\n",
       "    }\n",
       "</style>\n",
       "<table border=\"1\" class=\"dataframe\">\n",
       "  <thead>\n",
       "    <tr style=\"text-align: right;\">\n",
       "      <th></th>\n",
       "      <th>class</th>\n",
       "      <th>cap-shape</th>\n",
       "      <th>cap-surface</th>\n",
       "      <th>cap-color</th>\n",
       "      <th>bruises</th>\n",
       "      <th>odor</th>\n",
       "      <th>gill-attachment</th>\n",
       "      <th>gill-spacing</th>\n",
       "      <th>gill-size</th>\n",
       "      <th>gill-color</th>\n",
       "      <th>...</th>\n",
       "      <th>stalk-surface-below-ring</th>\n",
       "      <th>stalk-color-above-ring</th>\n",
       "      <th>stalk-color-below-ring</th>\n",
       "      <th>veil-type</th>\n",
       "      <th>veil-color</th>\n",
       "      <th>ring-number</th>\n",
       "      <th>ring-type</th>\n",
       "      <th>spore-print-color</th>\n",
       "      <th>population</th>\n",
       "      <th>habitat</th>\n",
       "    </tr>\n",
       "  </thead>\n",
       "  <tbody>\n",
       "    <tr>\n",
       "      <th>0</th>\n",
       "      <td>p</td>\n",
       "      <td>x</td>\n",
       "      <td>s</td>\n",
       "      <td>n</td>\n",
       "      <td>t</td>\n",
       "      <td>p</td>\n",
       "      <td>f</td>\n",
       "      <td>c</td>\n",
       "      <td>n</td>\n",
       "      <td>k</td>\n",
       "      <td>...</td>\n",
       "      <td>s</td>\n",
       "      <td>w</td>\n",
       "      <td>w</td>\n",
       "      <td>p</td>\n",
       "      <td>w</td>\n",
       "      <td>o</td>\n",
       "      <td>p</td>\n",
       "      <td>k</td>\n",
       "      <td>s</td>\n",
       "      <td>u</td>\n",
       "    </tr>\n",
       "    <tr>\n",
       "      <th>1</th>\n",
       "      <td>e</td>\n",
       "      <td>x</td>\n",
       "      <td>s</td>\n",
       "      <td>y</td>\n",
       "      <td>t</td>\n",
       "      <td>a</td>\n",
       "      <td>f</td>\n",
       "      <td>c</td>\n",
       "      <td>b</td>\n",
       "      <td>k</td>\n",
       "      <td>...</td>\n",
       "      <td>s</td>\n",
       "      <td>w</td>\n",
       "      <td>w</td>\n",
       "      <td>p</td>\n",
       "      <td>w</td>\n",
       "      <td>o</td>\n",
       "      <td>p</td>\n",
       "      <td>n</td>\n",
       "      <td>n</td>\n",
       "      <td>g</td>\n",
       "    </tr>\n",
       "    <tr>\n",
       "      <th>2</th>\n",
       "      <td>e</td>\n",
       "      <td>b</td>\n",
       "      <td>s</td>\n",
       "      <td>w</td>\n",
       "      <td>t</td>\n",
       "      <td>l</td>\n",
       "      <td>f</td>\n",
       "      <td>c</td>\n",
       "      <td>b</td>\n",
       "      <td>n</td>\n",
       "      <td>...</td>\n",
       "      <td>s</td>\n",
       "      <td>w</td>\n",
       "      <td>w</td>\n",
       "      <td>p</td>\n",
       "      <td>w</td>\n",
       "      <td>o</td>\n",
       "      <td>p</td>\n",
       "      <td>n</td>\n",
       "      <td>n</td>\n",
       "      <td>m</td>\n",
       "    </tr>\n",
       "    <tr>\n",
       "      <th>3</th>\n",
       "      <td>p</td>\n",
       "      <td>x</td>\n",
       "      <td>y</td>\n",
       "      <td>w</td>\n",
       "      <td>t</td>\n",
       "      <td>p</td>\n",
       "      <td>f</td>\n",
       "      <td>c</td>\n",
       "      <td>n</td>\n",
       "      <td>n</td>\n",
       "      <td>...</td>\n",
       "      <td>s</td>\n",
       "      <td>w</td>\n",
       "      <td>w</td>\n",
       "      <td>p</td>\n",
       "      <td>w</td>\n",
       "      <td>o</td>\n",
       "      <td>p</td>\n",
       "      <td>k</td>\n",
       "      <td>s</td>\n",
       "      <td>u</td>\n",
       "    </tr>\n",
       "    <tr>\n",
       "      <th>4</th>\n",
       "      <td>e</td>\n",
       "      <td>x</td>\n",
       "      <td>s</td>\n",
       "      <td>g</td>\n",
       "      <td>f</td>\n",
       "      <td>n</td>\n",
       "      <td>f</td>\n",
       "      <td>w</td>\n",
       "      <td>b</td>\n",
       "      <td>k</td>\n",
       "      <td>...</td>\n",
       "      <td>s</td>\n",
       "      <td>w</td>\n",
       "      <td>w</td>\n",
       "      <td>p</td>\n",
       "      <td>w</td>\n",
       "      <td>o</td>\n",
       "      <td>e</td>\n",
       "      <td>n</td>\n",
       "      <td>a</td>\n",
       "      <td>g</td>\n",
       "    </tr>\n",
       "  </tbody>\n",
       "</table>\n",
       "<p>5 rows × 23 columns</p>\n",
       "</div>"
      ],
      "text/plain": [
       "  class cap-shape cap-surface cap-color bruises odor gill-attachment  \\\n",
       "0     p         x           s         n       t    p               f   \n",
       "1     e         x           s         y       t    a               f   \n",
       "2     e         b           s         w       t    l               f   \n",
       "3     p         x           y         w       t    p               f   \n",
       "4     e         x           s         g       f    n               f   \n",
       "\n",
       "  gill-spacing gill-size gill-color  ... stalk-surface-below-ring  \\\n",
       "0            c         n          k  ...                        s   \n",
       "1            c         b          k  ...                        s   \n",
       "2            c         b          n  ...                        s   \n",
       "3            c         n          n  ...                        s   \n",
       "4            w         b          k  ...                        s   \n",
       "\n",
       "  stalk-color-above-ring stalk-color-below-ring veil-type veil-color  \\\n",
       "0                      w                      w         p          w   \n",
       "1                      w                      w         p          w   \n",
       "2                      w                      w         p          w   \n",
       "3                      w                      w         p          w   \n",
       "4                      w                      w         p          w   \n",
       "\n",
       "  ring-number ring-type spore-print-color population habitat  \n",
       "0           o         p                 k          s       u  \n",
       "1           o         p                 n          n       g  \n",
       "2           o         p                 n          n       m  \n",
       "3           o         p                 k          s       u  \n",
       "4           o         e                 n          a       g  \n",
       "\n",
       "[5 rows x 23 columns]"
      ]
     },
     "execution_count": 46,
     "metadata": {},
     "output_type": "execute_result"
    }
   ],
   "source": [
    "#print first 5 row of dataset\n",
    "mushroom_dataset.head()"
   ]
  },
  {
   "cell_type": "code",
   "execution_count": 48,
   "id": "dbf69c71",
   "metadata": {},
   "outputs": [
    {
     "data": {
      "text/plain": [
       "e    4208\n",
       "p    3916\n",
       "Name: class, dtype: int64"
      ]
     },
     "execution_count": 48,
     "metadata": {},
     "output_type": "execute_result"
    }
   ],
   "source": [
    "# takes class col and finds num of e and p\n",
    "# e = edible\n",
    "# p = poisonous\n",
    "mushroom_dataset['class'].value_counts()"
   ]
  },
  {
   "cell_type": "code",
   "execution_count": 69,
   "id": "8783f89c",
   "metadata": {},
   "outputs": [],
   "source": [
    "#mapping the text to numeric value\n",
    "#mappings is list of 23 dictionary \n",
    "mappings = list()\n",
    "\n",
    "encoder = LabelEncoder()\n",
    "\n",
    "for column in range(len(mushroom_dataset.columns)):\n",
    "    mushroom_dataset[mushroom_dataset.columns[column]] = encoder.fit_transform(mushroom_dataset[mushroom_dataset.columns[column]]) #take col and tranform it to numeric val\n",
    "    mappings_dict = {index: label for index, label in enumerate(encoder.classes_)}# dictionary of mapping\n",
    "    mappings.append(mappings_dict)"
   ]
  },
  {
   "cell_type": "code",
   "execution_count": 70,
   "id": "9046dec0",
   "metadata": {},
   "outputs": [],
   "source": [
    "# seperating data and label\n",
    "X = mushroom_dataset.drop(columns = 'class', axis = 1)\n",
    "Y = mushroom_dataset['class']"
   ]
  },
  {
   "cell_type": "code",
   "execution_count": 71,
   "id": "1b93944e",
   "metadata": {},
   "outputs": [
    {
     "name": "stdout",
     "output_type": "stream",
     "text": [
      "      cap-shape  cap-surface  cap-color  bruises  odor  gill-attachment  \\\n",
      "0             5            2          4        1     6                1   \n",
      "1             5            2          9        1     0                1   \n",
      "2             0            2          8        1     3                1   \n",
      "3             5            3          8        1     6                1   \n",
      "4             5            2          3        0     5                1   \n",
      "...         ...          ...        ...      ...   ...              ...   \n",
      "8119          3            2          4        0     5                0   \n",
      "8120          5            2          4        0     5                0   \n",
      "8121          2            2          4        0     5                0   \n",
      "8122          3            3          4        0     8                1   \n",
      "8123          5            2          4        0     5                0   \n",
      "\n",
      "      gill-spacing  gill-size  gill-color  stalk-shape  ...  \\\n",
      "0                0          1           4            0  ...   \n",
      "1                0          0           4            0  ...   \n",
      "2                0          0           5            0  ...   \n",
      "3                0          1           5            0  ...   \n",
      "4                1          0           4            1  ...   \n",
      "...            ...        ...         ...          ...  ...   \n",
      "8119             0          0          11            0  ...   \n",
      "8120             0          0          11            0  ...   \n",
      "8121             0          0           5            0  ...   \n",
      "8122             0          1           0            1  ...   \n",
      "8123             0          0          11            0  ...   \n",
      "\n",
      "      stalk-surface-below-ring  stalk-color-above-ring  \\\n",
      "0                            2                       7   \n",
      "1                            2                       7   \n",
      "2                            2                       7   \n",
      "3                            2                       7   \n",
      "4                            2                       7   \n",
      "...                        ...                     ...   \n",
      "8119                         2                       5   \n",
      "8120                         2                       5   \n",
      "8121                         2                       5   \n",
      "8122                         1                       7   \n",
      "8123                         2                       5   \n",
      "\n",
      "      stalk-color-below-ring  veil-type  veil-color  ring-number  ring-type  \\\n",
      "0                          7          0           2            1          4   \n",
      "1                          7          0           2            1          4   \n",
      "2                          7          0           2            1          4   \n",
      "3                          7          0           2            1          4   \n",
      "4                          7          0           2            1          0   \n",
      "...                      ...        ...         ...          ...        ...   \n",
      "8119                       5          0           1            1          4   \n",
      "8120                       5          0           0            1          4   \n",
      "8121                       5          0           1            1          4   \n",
      "8122                       7          0           2            1          0   \n",
      "8123                       5          0           1            1          4   \n",
      "\n",
      "      spore-print-color  population  habitat  \n",
      "0                     2           3        5  \n",
      "1                     3           2        1  \n",
      "2                     3           2        3  \n",
      "3                     2           3        5  \n",
      "4                     3           0        1  \n",
      "...                 ...         ...      ...  \n",
      "8119                  0           1        2  \n",
      "8120                  0           4        2  \n",
      "8121                  0           1        2  \n",
      "8122                  7           4        2  \n",
      "8123                  4           1        2  \n",
      "\n",
      "[8124 rows x 22 columns]\n"
     ]
    }
   ],
   "source": [
    "print(X)"
   ]
  },
  {
   "cell_type": "code",
   "execution_count": 52,
   "id": "a98c2d3d",
   "metadata": {},
   "outputs": [
    {
     "name": "stdout",
     "output_type": "stream",
     "text": [
      "0       1\n",
      "1       0\n",
      "2       0\n",
      "3       1\n",
      "4       0\n",
      "       ..\n",
      "8119    0\n",
      "8120    0\n",
      "8121    0\n",
      "8122    1\n",
      "8123    0\n",
      "Name: class, Length: 8124, dtype: int32\n"
     ]
    }
   ],
   "source": [
    "print(Y)"
   ]
  },
  {
   "cell_type": "code",
   "execution_count": 53,
   "id": "04e6df31",
   "metadata": {},
   "outputs": [],
   "source": [
    "scaler = StandardScaler()"
   ]
  },
  {
   "cell_type": "code",
   "execution_count": 54,
   "id": "466df727",
   "metadata": {},
   "outputs": [
    {
     "data": {
      "text/plain": [
       "StandardScaler()"
      ]
     },
     "execution_count": 54,
     "metadata": {},
     "output_type": "execute_result"
    }
   ],
   "source": [
    "#Fitting data with standard Scaler function\n",
    "scaler.fit(X)"
   ]
  },
  {
   "cell_type": "code",
   "execution_count": 55,
   "id": "3f3b7d41",
   "metadata": {},
   "outputs": [],
   "source": [
    "#standarzing data \n",
    "standardized_data = scaler.transform(X)"
   ]
  },
  {
   "cell_type": "code",
   "execution_count": 56,
   "id": "efde2e0a",
   "metadata": {},
   "outputs": [
    {
     "name": "stdout",
     "output_type": "stream",
     "text": [
      "[[ 1.02971224  0.14012794 -0.19824983 ... -0.67019486 -0.5143892\n",
      "   2.03002809]\n",
      " [ 1.02971224  0.14012794  1.76587407 ... -0.2504706  -1.31310821\n",
      "  -0.29572966]\n",
      " [-2.08704716  0.14012794  1.37304929 ... -0.2504706  -1.31310821\n",
      "   0.86714922]\n",
      " ...\n",
      " [-0.8403434   0.14012794 -0.19824983 ... -1.50964337 -2.11182722\n",
      "   0.28570978]\n",
      " [-0.21699152  0.95327039 -0.19824983 ...  1.42842641  0.28432981\n",
      "   0.28570978]\n",
      " [ 1.02971224  0.14012794 -0.19824983 ...  0.16925365 -2.11182722\n",
      "   0.28570978]]\n"
     ]
    }
   ],
   "source": [
    "print(standardized_data)"
   ]
  },
  {
   "cell_type": "code",
   "execution_count": 57,
   "id": "f6e85013",
   "metadata": {},
   "outputs": [],
   "source": [
    "# reassign X and Y to standarized data\n",
    "X = standardized_data\n",
    "Y = mushroom_dataset['class']"
   ]
  },
  {
   "cell_type": "code",
   "execution_count": 67,
   "id": "d50b442c",
   "metadata": {},
   "outputs": [
    {
     "name": "stdout",
     "output_type": "stream",
     "text": [
      "[[ 1.02971224  0.14012794 -0.19824983 ... -0.67019486 -0.5143892\n",
      "   2.03002809]\n",
      " [ 1.02971224  0.14012794  1.76587407 ... -0.2504706  -1.31310821\n",
      "  -0.29572966]\n",
      " [-2.08704716  0.14012794  1.37304929 ... -0.2504706  -1.31310821\n",
      "   0.86714922]\n",
      " ...\n",
      " [-0.8403434   0.14012794 -0.19824983 ... -1.50964337 -2.11182722\n",
      "   0.28570978]\n",
      " [-0.21699152  0.95327039 -0.19824983 ...  1.42842641  0.28432981\n",
      "   0.28570978]\n",
      " [ 1.02971224  0.14012794 -0.19824983 ...  0.16925365 -2.11182722\n",
      "   0.28570978]]\n",
      "0       1\n",
      "1       0\n",
      "2       0\n",
      "3       1\n",
      "4       0\n",
      "       ..\n",
      "8119    0\n",
      "8120    0\n",
      "8121    0\n",
      "8122    1\n",
      "8123    0\n",
      "Name: class, Length: 8124, dtype: int32\n"
     ]
    }
   ],
   "source": [
    "print(X)\n",
    "print(Y)"
   ]
  },
  {
   "cell_type": "code",
   "execution_count": 59,
   "id": "91aa2f44",
   "metadata": {},
   "outputs": [],
   "source": [
    "# train data and test data ml model will not see test data\n",
    "# y train represents all data for x train\n",
    "#using .2 which is 20 percent of test data and 80% as training, \n",
    "#stratify by Y similar proprotion of p and e in both X test and X train \n",
    "#so not all the p goes in one, random state is splitting of data\n",
    "X_train,X_test,Y_train,Y_test = train_test_split(X,Y,test_size = 0.2, stratify = Y, random_state=2)"
   ]
  },
  {
   "cell_type": "code",
   "execution_count": 60,
   "id": "41bc8070",
   "metadata": {},
   "outputs": [
    {
     "name": "stdout",
     "output_type": "stream",
     "text": [
      "(8124, 22) (6499, 22) (1625, 22)\n"
     ]
    }
   ],
   "source": [
    "#check how much of oringal dataset, training part,testing part \n",
    "print(X.shape,X_train.shape,X_test.shape)"
   ]
  },
  {
   "cell_type": "code",
   "execution_count": 61,
   "id": "4c6c298b",
   "metadata": {},
   "outputs": [],
   "source": [
    "#training model using support vector machine\n",
    "classifier = svm.SVC(kernel='linear')"
   ]
  },
  {
   "cell_type": "code",
   "execution_count": 62,
   "id": "31574387",
   "metadata": {},
   "outputs": [
    {
     "data": {
      "text/plain": [
       "SVC(kernel='linear')"
      ]
     },
     "execution_count": 62,
     "metadata": {},
     "output_type": "execute_result"
    }
   ],
   "source": [
    "#training model using support vector machine with \n",
    "#traning data and label for training\n",
    "classifier.fit(X_train, Y_train)"
   ]
  },
  {
   "cell_type": "code",
   "execution_count": 63,
   "id": "2e2392c9",
   "metadata": {},
   "outputs": [],
   "source": [
    "#accuary score of training data\n",
    "#predict label for all x train\n",
    "X_train_prediction = classifier.predict(X_train) \n",
    "# using predcitions with orignal label to get accuary score\n",
    "training_data_accuracy = accuracy_score(X_train_prediction,Y_train)"
   ]
  },
  {
   "cell_type": "code",
   "execution_count": 64,
   "id": "27f4e064",
   "metadata": {},
   "outputs": [
    {
     "name": "stdout",
     "output_type": "stream",
     "text": [
      "Accuracy score of training data:  0.988767502692722\n"
     ]
    }
   ],
   "source": [
    "print('Accuracy score of training data: ', training_data_accuracy)"
   ]
  },
  {
   "cell_type": "code",
   "execution_count": 65,
   "id": "b6161671",
   "metadata": {},
   "outputs": [],
   "source": [
    "# accuary score of test data\n",
    "#predict label for all x test\n",
    "X_test_prediction = classifier.predict(X_test)\n",
    "# using predcitions with orignal label to get accuary score\n",
    "test_data_accuracy = accuracy_score(X_test_prediction,Y_test)"
   ]
  },
  {
   "cell_type": "code",
   "execution_count": 66,
   "id": "d0de1b66",
   "metadata": {},
   "outputs": [
    {
     "name": "stdout",
     "output_type": "stream",
     "text": [
      "Accuracy score of test data:  0.9846153846153847\n"
     ]
    }
   ],
   "source": [
    "print('Accuracy score of test data: ', test_data_accuracy)"
   ]
  }
 ],
 "metadata": {
  "kernelspec": {
   "display_name": "Python 3 (ipykernel)",
   "language": "python",
   "name": "python3"
  },
  "language_info": {
   "codemirror_mode": {
    "name": "ipython",
    "version": 3
   },
   "file_extension": ".py",
   "mimetype": "text/x-python",
   "name": "python",
   "nbconvert_exporter": "python",
   "pygments_lexer": "ipython3",
   "version": "3.9.6"
  }
 },
 "nbformat": 4,
 "nbformat_minor": 5
}
